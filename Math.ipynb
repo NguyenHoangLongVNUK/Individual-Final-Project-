{
  "cells": [
    {
      "cell_type": "markdown",
      "metadata": {
        "id": "r3_RYV2zay0W"
      },
      "source": [
        "<h1 style=\"color: blue\">Mid Term: <span style=\"color:hotpink\">Nguyễn Hoàng Long</span></h1>\n",
        "<hr/>"
      ]
    },
    {
      "cell_type": "markdown",
      "metadata": {
        "id": "KJqpYfgTay0a"
      },
      "source": [
        "### 1. Topic 1:\n",
        "\n",
        "Description:\n",
        "\n",
        "Assume a product has info with 5 properties (weight (gram), width (cm), height (cm), color, price (USD)). \n",
        "(Color :1 (Red), 2 (Blue), 3 (Green), 4 (Yellow), 5(White), 7(Purple), 8(Black), 9(Magenta), 10(Cyan))"
      ]
    },
    {
      "cell_type": "markdown",
      "metadata": {
        "id": "2hy_NsGSay0b"
      },
      "source": [
        "A. Please input two vectors representing information of two products: A and B.  And calculate the dot product of two vectors, the angle between two vectors \n",
        "<hr/>"
      ]
    },
    {
      "cell_type": "code",
      "execution_count": 3,
      "metadata": {
        "id": "GwIE-eGmay0c"
      },
      "outputs": [],
      "source": [
        "# import library\n",
        "import numpy as np\n",
        "import math"
      ]
    },
    {
      "cell_type": "code",
      "execution_count": 4,
      "metadata": {
        "id": "6E8OE70kay0d"
      },
      "outputs": [],
      "source": [
        "# wrire function to caculate product of 2 vector\n",
        "def product(list_item = 5): # because Topic mentioned 5 properties,\n",
        "    list_item = ['weight', 'width', 'height', 'color', 'price']\n",
        "    list_color = {1:'Red',2:'Blue',3:'Green',4:'Yellow',5:'White',7:'Purple',8:'Black', 9:'Magenta', 10:'Cyan'}\n",
        "    lst = []\n",
        "    dict_info = {}\n",
        "    for idx, item in enumerate(list_item):\n",
        "        if idx !=  3:\n",
        "          input_data = float(input(f'Please input of {item} '))\n",
        "        else:\n",
        "          input_data = int(input(f'Please input color 1 (Red), 2 (Blue), 3 (Green), 4 (Yellow), 5(White), 7(Purple), 8(Black), 9(Magenta), 10(Cyan) '))\n",
        "        dict_info[item] = input_data\n",
        "        lst.append(input_data)\n",
        "    return dict_info, lst\n",
        "\n",
        "\n"
      ]
    },
    {
      "cell_type": "code",
      "source": [
        "11product_1 = product()\n",
        "print(f'Info of product 1 {product_1}[0]')\n",
        "print(f'The vector product 1: {product_1[1]}')\n",
        "product_2 = product()\n",
        "print('--'*30)\n",
        "print(f'Info of product 2 {product_2[0]}')\n",
        "print(f'The vector product 2: {product_2[1]}')"
      ],
      "metadata": {
        "colab": {
          "base_uri": "https://localhost:8080/"
        },
        "id": "RdghwrHRdZPg",
        "outputId": "d183438b-0f86-416a-a7b8-080245757590"
      },
      "execution_count": 5,
      "outputs": [
        {
          "output_type": "stream",
          "name": "stdout",
          "text": [
            "Please input of weight 12\n",
            "Please input of width 4\n",
            "Please input of height 21\n",
            "Please input color 1 (Red), 2 (Blue), 3 (Green), 4 (Yellow), 5(White), 7(Purple), 8(Black), 9(Magenta), 10(Cyan) 1\n",
            "Please input of price 100\n",
            "Info of product 1 ({'weight': 12.0, 'width': 4.0, 'height': 21.0, 'color': 1, 'price': 100.0}, [12.0, 4.0, 21.0, 1, 100.0])[0]\n",
            "The vector product 1: [12.0, 4.0, 21.0, 1, 100.0]\n",
            "Please input of weight 16\n",
            "Please input of width 14\n",
            "Please input of height 6\n",
            "Please input color 1 (Red), 2 (Blue), 3 (Green), 4 (Yellow), 5(White), 7(Purple), 8(Black), 9(Magenta), 10(Cyan) 6\n",
            "Please input of price 20000\n",
            "------------------------------------------------------------\n",
            "Info of product 2 {'weight': 16.0, 'width': 14.0, 'height': 6.0, 'color': 6, 'price': 20000.0}\n",
            "The vector product 2: [16.0, 14.0, 6.0, 6, 20000.0]\n"
          ]
        }
      ]
    },
    {
      "cell_type": "code",
      "source": [
        "# get value of lst vector in def \n",
        "product_1 = product_1[1]\n",
        "product_2 = product_2[1]\n",
        "\n",
        "product_1 = np.array(product_1)\n",
        "product_2 = np.array(product_2)\n",
        "\n",
        "dot = np.dot(product_1, product_2)\n",
        "\n",
        "norm_1 = np.linalg.norm(product_1)\n",
        "norm_2 = np.linalg.norm(product_2)\n",
        "\n",
        "cos = dot / (norm_1 * norm_2)\n",
        "\n",
        "angle = math.degrees(cos)\n",
        "angle_1 = round(angle,2)\n",
        "\n",
        "print(f\"Dot Product of two vectors product_1 {product_1} and product_2 {product_2} is {dot}\")\n",
        "print(f\"Angle between two vectors product_1 {product_1} and product_2 {product_2} is {angle_1}\")"
      ],
      "metadata": {
        "colab": {
          "base_uri": "https://localhost:8080/"
        },
        "id": "F-29x5dTbrtW",
        "outputId": "71127e03-3be9-4760-987c-15630999f14d"
      },
      "execution_count": 6,
      "outputs": [
        {
          "output_type": "stream",
          "name": "stdout",
          "text": [
            "Dot Product of two vectors product_1 [ 12.   4.  21.   1. 100.] and product_2 [1.6e+01 1.4e+01 6.0e+00 6.0e+00 2.0e+04] is 2000380.0\n",
            "Angle between two vectors product_1 [ 12.   4.  21.   1. 100.] and product_2 [1.6e+01 1.4e+01 6.0e+00 6.0e+00 2.0e+04] is 55.66\n"
          ]
        }
      ]
    },
    {
      "cell_type": "markdown",
      "source": [
        "B. Create a random of 200 products and apply PCA to help reduce the dimensions of data from 5 to 4,3, and 2. Print out step by step of PCA with mean, covariance, eigenvalue, eigenvector and product vectors (after reduction)"
      ],
      "metadata": {
        "id": "lde9Zb1wp7yK"
      }
    },
    {
      "cell_type": "code",
      "source": [
        "import pandas as pd\n",
        "from random import seed\n",
        "from random import randint\n",
        "\n",
        "# products = pd.DataFrame(columns=['weight','width','height','color','price'])\n",
        "def product(num_ = 200):  \n",
        "    products = pd.DataFrame(columns=['weight','width','height','color','price'])\n",
        "    #create a seed to random state number\n",
        "    seed(42)\n",
        "    for i in range(0,num_):\n",
        "        weigth = randint(1,20)\n",
        "        width = randint(2,20)\n",
        "        height = randint(2,20)\n",
        "        color = randint(1,10)\n",
        "        price = randint(1,20)\n",
        "        products.loc[len(products)] = [weigth, width, height, color, price]\n",
        "    \n",
        "    products.to_csv(\"product.csv\", index=False)\n",
        "product()"
      ],
      "metadata": {
        "id": "UrDTQlBGbOI2"
      },
      "execution_count": 10,
      "outputs": []
    },
    {
      "cell_type": "code",
      "source": [
        "# mean Centering the data\n",
        "import pandas as pd\n",
        "data = pd.read_csv(\"product.csv\", index_col=False)\n",
        "data.shape\n",
        "df = data\n",
        "X = np.array(df)\n",
        "print(df.sample(10))"
      ],
      "metadata": {
        "colab": {
          "base_uri": "https://localhost:8080/"
        },
        "id": "2IFO31mnrfoy",
        "outputId": "f42141a0-15cc-4804-bd45-7c9d4c11db04"
      },
      "execution_count": 11,
      "outputs": [
        {
          "output_type": "stream",
          "name": "stdout",
          "text": [
            "     weight  width  height  color  price\n",
            "129      12      7       5      3     10\n",
            "75       19     19       6      7      5\n",
            "151       6      8       8      8      9\n",
            "47        5     15       7      5     15\n",
            "79       14      2       7      6     14\n",
            "24       20     16      18      5     18\n",
            "3         8     18       2      9      7\n",
            "4        18     15       9      8     19\n",
            "154       1     19       6      5      2\n",
            "110      10      9      10      6     11\n"
          ]
        }
      ]
    },
    {
      "cell_type": "code",
      "source": [
        "def PCA(X , num_components):\n",
        "    # 1. Find mean\n",
        "    X_meaned = X - np.mean(X , axis = 0)\n",
        "    print(f'Means = {X_meaned[:3]}')\n",
        "    print('--'*30)\n",
        "\n",
        "    # 2. Calculate the Covariance Matrix\n",
        "    cov_mat = np.cov(X_meaned , rowvar = False)\n",
        "    print(f'Cov = {cov_mat}')\n",
        "    print('--'*30)\n",
        "    # 3. Calculating Eigenvalues and Eigenvectors of the covariance matrix\n",
        "    eigen_values , eigen_vectors = np.linalg.eigh(cov_mat)\n",
        "    print(f'EigenValue = {eigen_values}')\n",
        "    print(f'EigenVector = {eigen_vectors}')\n",
        "    print('--'*30)\n",
        "\n",
        "    # 4. Sort the eigenvalues in descending order\n",
        "    sorted_index = np.argsort(eigen_values)[::-1]\n",
        "    sorted_eigenvalue = eigen_values[sorted_index]\n",
        "    sorted_eigenvectors = eigen_vectors[:,sorted_index]\n",
        "    print(f'{sorted_eigenvectors}')\n",
        "    print('--'*30)\n",
        "\n",
        "    # 5. Select the first n eigenvectors, n is desired dimension of our final reduced data.\n",
        "    eigenvector_subset = sorted_eigenvectors[:,0:num_components]\n",
        "\n",
        "    # 6. Transform the data \n",
        "    X_reduced = np.dot(eigenvector_subset.transpose() , X_meaned.transpose() ).transpose()\n",
        "    print(f'List of random 200 products have 3 properties are : {X_reduced}')\n",
        "    print('--'*30)\n",
        "\n",
        "X_reduced = PCA(X , num_components = 3)"
      ],
      "metadata": {
        "colab": {
          "base_uri": "https://localhost:8080/"
        },
        "id": "aWGcIfq8bEtD",
        "outputId": "a9a60a21-83eb-4d1b-d107-b6dd5979657a"
      },
      "execution_count": 12,
      "outputs": [
        {
          "output_type": "stream",
          "name": "stdout",
          "text": [
            "Means = [[-6.675 -9.18  -1.095 -1.385 -2.59 ]\n",
            " [-5.675 -6.18   7.905 -3.385  8.41 ]\n",
            " [ 3.325 -8.18  -9.095 -3.385 -3.59 ]]\n",
            "------------------------------------------------------------\n",
            "cov = [[32.7330402  -2.43366834  1.20690955  0.45741206  1.72537688]\n",
            " [-2.43366834 29.19356784 -0.30361809 -0.80834171  1.01889447]\n",
            " [ 1.20690955 -0.30361809 27.90550251 -0.07193467 -0.32768844]\n",
            " [ 0.45741206 -0.80834171 -0.07193467  8.00680905  0.22396985]\n",
            " [ 1.72537688  1.01889447 -0.32768844  0.22396985 33.48934673]]\n",
            "------------------------------------------------------------\n",
            "EigenValue = [ 7.96793015 27.14651942 27.98336984 33.13661623 35.0938307 ]\n",
            "EigenVector = [[ 0.01442446 -0.46561867  0.16971428  0.46728133  0.73200848]\n",
            " [-0.03690917 -0.58157294  0.61679869 -0.49014508 -0.19931835]\n",
            " [-0.00488894  0.61767716  0.75858124  0.18068682  0.10177326]\n",
            " [-0.99916016  0.01405585 -0.02516236  0.01739938  0.02335631]\n",
            " [ 0.00920398  0.25149459 -0.12115197 -0.71306065  0.6430649 ]]\n",
            "------------------------------------------------------------\n",
            "[[ 0.73200848  0.46728133  0.16971428 -0.46561867  0.01442446]\n",
            " [-0.19931835 -0.49014508  0.61679869 -0.58157294 -0.03690917]\n",
            " [ 0.10177326  0.18068682  0.75858124  0.61767716 -0.00488894]\n",
            " [ 0.02335631  0.01739938 -0.02516236  0.01405585 -0.99916016]\n",
            " [ 0.6430649  -0.71306065 -0.12115197  0.25149459  0.00920398]]\n",
            "------------------------------------------------------------\n",
            "List of random 200 products have 3 properties are : [[-4.86574243e+00  3.00530583e+00 -7.27706776e+00]\n",
            " [ 3.21127165e+00 -4.25013258e+00  2.87926779e-01]\n",
            " [ 7.51060362e-01  6.42074134e+00 -1.08602995e+01]\n",
            " [-6.46727159e+00 -3.61332718e+00 -2.80274136e+00]\n",
            " [ 9.85660360e+00 -4.77939805e+00  9.25412738e-01]\n",
            " [ 4.88243815e-01  2.71266820e+00 -9.14318308e+00]\n",
            " [-4.73206696e+00  5.90679987e+00 -5.04418092e+00]\n",
            " [-5.87946521e+00 -7.06459443e+00 -4.37303657e+00]\n",
            " [ 1.10635078e+01 -1.76517029e+00 -6.24948761e+00]\n",
            " [-6.46529086e+00 -5.29968048e+00 -4.79508667e+00]\n",
            " [ 2.45629946e+00  1.04623827e+01  1.04147185e+01]\n",
            " [-7.66992722e+00 -1.21438433e+00 -2.48999953e+00]\n",
            " [-4.59187779e+00 -5.65908021e+00 -4.60740817e-01]\n",
            " [-4.64584266e+00 -1.62272757e+00  2.00173813e+00]\n",
            " [-6.96451311e+00  3.13960182e+00  2.70674650e+00]\n",
            " [ 9.11312167e-01  2.35065640e+00  1.86556177e+00]\n",
            " [ 1.81635106e+00  3.41406314e+00 -6.51881919e+00]\n",
            " [ 6.59086140e+00 -5.63811095e+00 -6.69940885e+00]\n",
            " [ 4.34634290e+00 -3.39013981e-01  1.99824212e+00]\n",
            " [ 2.95275203e-01 -8.30192729e+00 -6.41880863e+00]\n",
            " [ 1.19493449e+01 -3.58516960e-01  6.21097528e+00]\n",
            " [ 5.19228654e+00 -4.79639015e+00 -7.88640287e-01]\n",
            " [ 8.31402424e-01  8.47196705e+00 -8.90318707e+00]\n",
            " [-3.31811018e+00 -7.02924361e+00 -4.15199061e+00]\n",
            " [ 1.13241277e+01 -2.04793654e+00  8.90551019e+00]\n",
            " [-4.79121254e+00 -3.62574549e-01  5.02798350e-01]\n",
            " [-1.67264328e+00 -5.51138971e+00  1.24412520e+00]\n",
            " [-2.07790077e+00 -7.30714944e+00  2.15162345e+00]\n",
            " [-6.34834852e+00  8.56951642e-01  4.31294816e+00]\n",
            " [-7.27189925e-01 -8.79161815e+00 -3.81449116e+00]\n",
            " [-1.09848671e+01  7.66863268e-01  4.25193994e+00]\n",
            " [-9.75381980e-01  2.09936578e+00 -1.05125948e+00]\n",
            " [ 1.98320919e+00  1.15850154e+01 -7.54413322e+00]\n",
            " [ 1.07020841e+01 -1.97092153e-01 -6.78036721e+00]\n",
            " [-1.83558896e-01 -2.70976517e+00  3.18751423e+00]\n",
            " [-3.02299468e+00 -7.83459407e+00  1.56956810e+00]\n",
            " [-3.46477979e+00  4.24886007e+00  9.16843647e+00]\n",
            " [-8.39831825e+00  5.38551796e+00 -6.03436818e+00]\n",
            " [ 2.76433737e+00  1.60576887e+00  4.84466873e+00]\n",
            " [-1.13881419e+01  2.92366716e+00 -1.12569220e+01]\n",
            " [-8.81680092e+00 -3.82783168e+00 -6.12580866e+00]\n",
            " [-6.21143499e+00 -1.45658519e-01  1.54396560e+00]\n",
            " [ 8.38358646e+00 -3.24776310e+00  1.07118757e+01]\n",
            " [ 4.56124271e+00 -4.79348143e-01 -6.34862614e+00]\n",
            " [-4.85691103e+00  5.62306598e+00  6.51819801e+00]\n",
            " [-7.18351472e+00  6.12494941e+00 -3.19166095e+00]\n",
            " [ 1.28107073e+00 -3.33224063e+00 -5.38845659e+00]\n",
            " [-2.50538169e+00 -8.41538453e+00 -2.23794040e+00]\n",
            " [-4.18118369e+00  7.91750145e+00 -4.54329751e-01]\n",
            " [-1.05790701e+01 -7.74201656e+00 -3.14924379e+00]\n",
            " [-5.83009086e+00 -3.84551607e-01  6.41131496e+00]\n",
            " [-3.21368965e+00  1.12222549e+01 -6.63600756e+00]\n",
            " [ 4.62017236e+00  1.12833582e-01  2.98416351e+00]\n",
            " [ 3.27163773e+00  4.61996428e-02  1.07428358e+00]\n",
            " [-5.59291057e+00  1.00892338e+01  2.03578618e+00]\n",
            " [ 4.63124282e+00 -1.07876663e+00 -1.19025277e+01]\n",
            " [ 6.87346954e+00 -5.77416264e+00  1.50737252e+00]\n",
            " [-1.02801689e+01  2.67287769e+00 -8.45949034e+00]\n",
            " [-4.69825718e+00 -1.80634765e+00 -3.14050673e+00]\n",
            " [ 1.24482097e+01  6.48790737e-01 -1.00742011e+01]\n",
            " [ 2.50912904e+00  3.26403817e+00  6.75057754e+00]\n",
            " [-2.99603732e+00  5.03663967e+00 -1.48350815e+00]\n",
            " [-7.60876891e+00  4.26496213e+00  4.79195056e+00]\n",
            " [ 5.47369057e+00 -8.74605038e+00  7.38064528e-01]\n",
            " [-3.30990733e+00 -6.30481345e+00  2.64140858e+00]\n",
            " [-7.95043308e+00  1.09259009e+00 -6.36305915e-01]\n",
            " [ 5.82743411e+00 -6.31952865e+00  4.59260636e+00]\n",
            " [-1.23243139e+01 -4.44393451e+00  3.87172899e+00]\n",
            " [-4.12493455e+00  5.19402197e+00 -8.13336238e+00]\n",
            " [-3.79946401e+00  1.31689252e+00 -2.32364339e+00]\n",
            " [-7.51741394e+00  3.05996225e+00  9.45210080e+00]\n",
            " [-1.27604127e+01  1.10536487e+00  1.49515180e+00]\n",
            " [ 3.93914151e+00 -6.93129118e-01 -4.44477449e+00]\n",
            " [ 1.06486850e+00  7.60158429e+00  1.05046412e+01]\n",
            " [-2.97687428e+00 -7.00815145e-01  1.43852307e+00]\n",
            " [ 4.59753934e-01  3.15069221e+00  3.00786801e+00]\n",
            " [-5.31611410e+00 -4.70294283e+00 -1.98685199e-01]\n",
            " [ 1.90354987e+00 -7.02310761e+00 -7.50508473e+00]\n",
            " [ 2.45809556e-01  6.94557390e+00 -3.60384515e+00]\n",
            " [ 6.05412460e+00  2.89249351e+00 -8.63290524e+00]\n",
            " [-6.68963239e-01 -3.18889198e+00 -4.49499998e+00]\n",
            " [-4.91985361e+00 -1.04535444e+01  2.88389842e-02]\n",
            " [-5.40676736e+00  7.14298848e+00 -2.78682769e-01]\n",
            " [-8.04995890e+00  2.46948514e+00  2.73141932e+00]\n",
            " [ 3.91670215e+00 -5.68279717e+00  5.13793233e+00]\n",
            " [-1.51332289e+00  6.81636170e+00 -9.66483242e+00]\n",
            " [ 1.14774913e+01 -3.76296921e+00 -6.51053167e+00]\n",
            " [ 8.25223477e+00 -5.85663277e+00  1.19271235e+00]\n",
            " [ 3.95657875e+00  9.14973212e+00 -2.15883305e-01]\n",
            " [ 4.82136310e+00 -7.14742476e-01 -3.03367214e+00]\n",
            " [ 1.34653036e+00  1.07659358e+01  1.60574077e+00]\n",
            " [ 3.56720751e+00 -5.92875626e+00 -4.82951721e+00]\n",
            " [-1.50508487e+00 -1.57544174e+00  2.95897233e+00]\n",
            " [ 7.66694978e+00  3.71218537e+00 -4.63228252e+00]\n",
            " [-3.86964584e-01 -1.17804645e+01  3.63631165e+00]\n",
            " [-4.89547036e+00 -6.90552096e+00 -2.20335298e+00]\n",
            " [ 9.32672036e+00  1.27536889e+00  5.03940751e+00]\n",
            " [-8.38507862e+00  1.37754018e+00  9.04184499e+00]\n",
            " [-3.50595130e+00 -1.70675259e+00  5.17748414e+00]\n",
            " [-6.59727719e+00  6.99062977e+00 -2.58512758e+00]\n",
            " [-1.00877616e+01  3.57423492e+00  2.46594887e+00]\n",
            " [ 4.82826939e+00  1.50794085e-02  9.58822480e+00]\n",
            " [-3.10004482e+00  7.52427917e+00  2.27573277e+00]\n",
            " [-1.79442646e+00 -9.98221228e+00 -1.08247142e+00]\n",
            " [ 1.33073223e+00  1.21336794e+01  2.51842703e+00]\n",
            " [ 9.54714758e+00  2.25331486e-01  2.71139984e-01]\n",
            " [ 1.13915713e+01  3.51327685e-01  4.91649312e+00]\n",
            " [ 4.79773285e+00 -5.29211088e+00  8.51308677e+00]\n",
            " [ 7.30097118e+00 -2.35659348e+00 -2.34993252e+00]\n",
            " [-5.98768421e-01  8.81656701e+00 -4.17795178e-01]\n",
            " [ 1.06987305e-01  2.73595057e-01 -2.35497190e+00]\n",
            " [ 4.55329019e+00  7.82680761e+00 -6.67663307e+00]\n",
            " [ 4.53319072e+00  5.75721162e-01 -5.47619408e+00]\n",
            " [ 5.32893286e+00  1.94083369e-01  6.58773180e+00]\n",
            " [ 1.26979680e-01 -7.75816220e+00 -1.53095675e+00]\n",
            " [-1.46504342e+01 -1.43538023e+00  7.09790512e+00]\n",
            " [ 6.10427124e+00 -4.02341032e+00  1.37915284e+00]\n",
            " [ 5.34262553e+00  6.66797601e+00  4.60543967e+00]\n",
            " [ 6.49644613e-01 -3.20653548e+00 -2.83553754e+00]\n",
            " [ 9.02980420e+00 -2.72989384e+00  4.57180338e-01]\n",
            " [ 1.30033211e+01  2.53072088e+00 -3.35038875e+00]\n",
            " [-2.47344025e+00 -3.48221813e+00 -3.58260846e+00]\n",
            " [-1.60178018e+00  1.36273960e+00 -6.75978351e+00]\n",
            " [-1.99459026e+00 -5.62401215e+00  2.72833463e+00]\n",
            " [ 1.30096797e+00 -6.76945753e+00  6.70995547e-01]\n",
            " [-1.11158801e+01 -7.95901354e+00 -2.66102627e+00]\n",
            " [-7.25432027e+00  1.31544547e+00 -1.27774813e+01]\n",
            " [-2.83965163e+00 -6.25968989e+00 -7.02165048e+00]\n",
            " [-7.92052914e+00 -6.82214239e+00  2.08634475e+00]\n",
            " [ 7.47640808e-01  1.94587626e+00 -6.84540786e+00]\n",
            " [-2.17058863e+00 -1.50890680e+01 -3.60117531e+00]\n",
            " [ 6.15396842e+00 -6.91074273e+00 -1.14756442e+00]\n",
            " [-4.86601204e+00  6.54132162e+00 -3.65559962e+00]\n",
            " [ 1.01955572e+01  5.87507418e+00 -2.69153480e+00]\n",
            " [-3.04886690e+00  1.22349842e+01  2.18063284e+00]\n",
            " [ 1.59802930e+00 -3.37753566e+00 -6.80945796e-01]\n",
            " [ 8.66217154e+00  6.53309025e-01 -2.15315119e-01]\n",
            " [ 7.01154812e-02 -5.93471249e+00  8.53958875e+00]\n",
            " [ 1.50805993e+00  1.00200420e+01  2.32595827e+00]\n",
            " [ 3.06920895e+00 -9.47507510e+00  1.47829189e-02]\n",
            " [ 9.73256979e+00 -7.95243555e-01  3.46337876e+00]\n",
            " [ 2.54639760e+00  2.23811491e+00  1.82038643e+00]\n",
            " [-2.41568078e+00 -1.68402688e-01 -5.32635610e-01]\n",
            " [ 2.98123785e+00  1.45580423e+01  1.77334191e+00]\n",
            " [-3.69965269e+00 -1.45650217e-01  6.60442918e+00]\n",
            " [-1.74616985e+00  5.85773164e+00  9.24421829e+00]\n",
            " [-1.75697174e-01  1.67460424e+00  8.50829752e-01]\n",
            " [ 1.05386614e+01 -4.42811282e-01  6.14732113e+00]\n",
            " [ 1.93411842e+00 -8.19591993e-01  8.39132798e+00]\n",
            " [ 1.71693358e+00  4.42232602e+00  2.57597699e-01]\n",
            " [ 5.25830379e-01 -6.73959627e+00 -3.22030813e+00]\n",
            " [-4.06469196e+00 -5.83876831e-03 -4.97581096e+00]\n",
            " [ 2.33728684e+00  3.03115321e+00  6.06748338e+00]\n",
            " [-3.00826750e-01  1.47651804e+00  1.17410873e-01]\n",
            " [-1.46923060e+01 -3.15598854e+00  3.66791629e-01]\n",
            " [-4.49523520e+00 -1.18029210e+01  2.68360923e+00]\n",
            " [ 1.31986573e+00 -8.74911746e-01 -6.85633497e-01]\n",
            " [-2.55029683e+00  6.37298884e+00  5.66392190e+00]\n",
            " [-1.53572975e+00 -6.51399987e+00 -1.52485736e+00]\n",
            " [ 2.53819158e+00  1.15262437e+01  4.01785635e+00]\n",
            " [-7.66640365e+00 -5.20413623e+00  4.80392888e+00]\n",
            " [ 1.11628608e-01 -1.28760579e+01  5.39661833e+00]\n",
            " [ 1.08368741e+01  3.55705973e+00  4.90105056e+00]\n",
            " [ 3.76641703e+00  4.16703983e+00  7.40899888e+00]\n",
            " [ 4.76313517e+00  9.33400723e+00 -7.78630911e+00]\n",
            " [-3.19578634e+00  5.24548315e+00 -7.22833876e+00]\n",
            " [ 8.46674024e+00  3.69433177e+00 -6.59463894e+00]\n",
            " [ 2.28279867e-01  9.21712935e-01  4.67583797e+00]\n",
            " [-1.70362978e+00  2.44701027e+00  3.89421827e+00]\n",
            " [-7.49916757e+00 -9.37831872e-01  3.56583836e+00]\n",
            " [ 1.67421635e+00  7.55006292e+00 -3.27950844e+00]\n",
            " [ 1.63774609e+00 -7.03350948e+00 -1.05847131e+01]\n",
            " [ 9.38590083e+00  1.66111769e+00  4.57358298e+00]\n",
            " [ 3.68191880e+00 -7.11635676e+00 -1.94529331e-01]\n",
            " [-3.20098874e+00  5.04928991e+00 -5.80864539e-01]\n",
            " [-2.82423463e+00  6.28977344e+00  1.26930886e+00]\n",
            " [-3.93471027e+00 -2.90657084e+00  1.20443133e+01]\n",
            " [ 1.14907560e+01  2.63437189e+00 -7.58131579e+00]\n",
            " [ 5.28501151e+00 -4.91788275e-01 -3.62945089e+00]\n",
            " [ 8.13723748e+00  4.65363426e+00  5.25933090e-01]\n",
            " [-3.37894527e-01 -1.68519112e+00 -4.05228066e+00]\n",
            " [ 6.06705829e+00 -6.57177862e+00  3.14362981e+00]\n",
            " [-9.04107836e+00 -6.55367079e+00 -3.70427880e+00]\n",
            " [-4.31721784e+00  1.06070087e+01 -4.82094791e-01]\n",
            " [ 2.38765180e+00  4.24950995e+00  7.72365904e+00]\n",
            " [-5.94685415e-01  9.30113644e+00  7.65033450e+00]\n",
            " [-2.08553096e+00  6.68649917e-01  4.77655416e+00]\n",
            " [ 7.33441912e+00 -8.71913582e+00 -1.32947312e+00]\n",
            " [-7.21719977e+00  7.68281403e+00 -2.03338397e+00]\n",
            " [-3.91661504e-01  4.94348006e+00 -9.49564448e-01]\n",
            " [ 3.56085777e+00  4.59569414e+00 -6.93709297e+00]\n",
            " [ 8.80263175e+00  4.27348920e-01  2.58664836e+00]\n",
            " [-6.20237885e-01 -3.94412119e+00  8.28360466e+00]\n",
            " [-5.66955140e+00 -4.90577818e+00 -4.29810220e-03]\n",
            " [-3.20275308e+00  9.23098686e+00  7.47961327e+00]\n",
            " [ 4.03483299e+00 -2.39553258e+00  5.75802857e+00]\n",
            " [-3.34254665e+00 -4.54590762e+00  7.76980199e+00]\n",
            " [ 2.35738755e+00 -5.36923622e+00  1.03001902e+01]\n",
            " [ 2.31609593e+00 -3.06189134e-01 -3.90359093e+00]\n",
            " [-5.00280887e-02 -8.43194911e+00 -4.90943685e+00]]\n",
            "------------------------------------------------------------\n"
          ]
        }
      ]
    },
    {
      "cell_type": "markdown",
      "source": [
        "2. Topic 2:\n",
        "\n",
        "Description:\n",
        "\n",
        "Assume the loss function of an AI algorithm is y = x^3 - 2*x^2 + 1.  \n",
        "A. Plot the function in-plane and its derivative \n",
        "<hr/>"
      ],
      "metadata": {
        "id": "14juBF7l-uYA"
      }
    },
    {
      "cell_type": "code",
      "source": [
        "# import library\n",
        "import matplotlib.pyplot as plt\n",
        "from scipy.misc import derivative"
      ],
      "metadata": {
        "id": "Y1LHTXXzu_tW"
      },
      "execution_count": 13,
      "outputs": []
    },
    {
      "cell_type": "code",
      "source": [
        "def function(x):\n",
        "    return x**3 - 2*x*x + 1\n",
        "# calculating its derivative\n",
        "def deriv(x):\n",
        "    return derivative(function, x)\n",
        "\n",
        "# create an random array from -1 to 5 with 100    \n",
        "y = np.linspace(-1, 5,100)\n",
        "y"
      ],
      "metadata": {
        "colab": {
          "base_uri": "https://localhost:8080/"
        },
        "id": "ZqltARfSC25D",
        "outputId": "f101eca4-7dfa-40b2-c6ff-37cdbaa35ee0"
      },
      "execution_count": 32,
      "outputs": [
        {
          "output_type": "execute_result",
          "data": {
            "text/plain": [
              "array([-1.        , -0.93939394, -0.87878788, -0.81818182, -0.75757576,\n",
              "       -0.6969697 , -0.63636364, -0.57575758, -0.51515152, -0.45454545,\n",
              "       -0.39393939, -0.33333333, -0.27272727, -0.21212121, -0.15151515,\n",
              "       -0.09090909, -0.03030303,  0.03030303,  0.09090909,  0.15151515,\n",
              "        0.21212121,  0.27272727,  0.33333333,  0.39393939,  0.45454545,\n",
              "        0.51515152,  0.57575758,  0.63636364,  0.6969697 ,  0.75757576,\n",
              "        0.81818182,  0.87878788,  0.93939394,  1.        ,  1.06060606,\n",
              "        1.12121212,  1.18181818,  1.24242424,  1.3030303 ,  1.36363636,\n",
              "        1.42424242,  1.48484848,  1.54545455,  1.60606061,  1.66666667,\n",
              "        1.72727273,  1.78787879,  1.84848485,  1.90909091,  1.96969697,\n",
              "        2.03030303,  2.09090909,  2.15151515,  2.21212121,  2.27272727,\n",
              "        2.33333333,  2.39393939,  2.45454545,  2.51515152,  2.57575758,\n",
              "        2.63636364,  2.6969697 ,  2.75757576,  2.81818182,  2.87878788,\n",
              "        2.93939394,  3.        ,  3.06060606,  3.12121212,  3.18181818,\n",
              "        3.24242424,  3.3030303 ,  3.36363636,  3.42424242,  3.48484848,\n",
              "        3.54545455,  3.60606061,  3.66666667,  3.72727273,  3.78787879,\n",
              "        3.84848485,  3.90909091,  3.96969697,  4.03030303,  4.09090909,\n",
              "        4.15151515,  4.21212121,  4.27272727,  4.33333333,  4.39393939,\n",
              "        4.45454545,  4.51515152,  4.57575758,  4.63636364,  4.6969697 ,\n",
              "        4.75757576,  4.81818182,  4.87878788,  4.93939394,  5.        ])"
            ]
          },
          "metadata": {},
          "execution_count": 32
        }
      ]
    },
    {
      "cell_type": "code",
      "source": [
        "# plotting the function\n",
        "plt.plot(y, function(y), color='blue', label='Function')\n",
        "  \n",
        "# plotting its derivative\n",
        "plt.plot(y, deriv(y), color='red', label='Derivative')\n",
        "  \n",
        "# formatting\n",
        "plt.legend(loc='upper left')\n",
        "plt.title('Plot the function and derivative: y = x^3 - 2*x^2 + 1')\n",
        "plt.grid(True)"
      ],
      "metadata": {
        "colab": {
          "base_uri": "https://localhost:8080/",
          "height": 281
        },
        "id": "EyfLbAMLEqTS",
        "outputId": "1e3b7931-1545-4a18-8abd-836d090a5a3d"
      },
      "execution_count": 33,
      "outputs": [
        {
          "output_type": "display_data",
          "data": {
            "text/plain": [
              "<Figure size 432x288 with 1 Axes>"
            ],
            "image/png": "[encoded data removed]"
          },
          "metadata": {
            "needs_background": "light"
          }
        }
      ]
    },
    {
      "cell_type": "code",
      "source": [
        "# print result y when fucntion and derivative both increase\n",
        "print(function(1.605))"
      ],
      "metadata": {
        "colab": {
          "base_uri": "https://localhost:8080/"
        },
        "id": "Di42BboPFZQl",
        "outputId": "30cc46c2-711e-4cf3-88b5-abacd0c11003"
      },
      "execution_count": 34,
      "outputs": [
        {
          "output_type": "stream",
          "name": "stdout",
          "text": [
            "-0.01752987500000014\n"
          ]
        }
      ]
    },
    {
      "cell_type": "markdown",
      "source": [
        "B. Using the Gradient Descent to find the x to make this function get the minimum loss. "
      ],
      "metadata": {
        "id": "WRz7_UyNHwYC"
      }
    },
    {
      "cell_type": "code",
      "source": [
        "new_x = 1.605 #start point\n",
        "prev_x = 0 #temporary value\n",
        "\n",
        "step_multiplier = 0.1 #learning rate \n",
        "prec = 0.000001\n",
        "\n",
        "x_list = [new_x]\n",
        "slope_list = [deriv(new_x)]\n",
        "\n",
        "for i in range(1000):\n",
        "    \n",
        "    prev_x = new_x #start with random value\n",
        "    \n",
        "    gradient = deriv(prev_x) #calculating the error\n",
        "    new_x = prev_x - step_multiplier * gradient\n",
        "    \n",
        "    step_size = abs(new_x - prev_x)\n",
        "    \n",
        "    x_list.append(new_x)\n",
        "    slope_list.append(deriv(new_x))\n",
        "    \n",
        "    if step_size < prec:\n",
        "        print('Time to repeat: ' + str(i))\n",
        "        break\n",
        "\n",
        "print('Local minimum occurs : ' + str(new_x))\n",
        "print('Derivative value at this point: ' + str(deriv(new_x)))\n",
        "print('f(x) or cost at this point ' + str(function(new_x)))"
      ],
      "metadata": {
        "colab": {
          "base_uri": "https://localhost:8080/"
        },
        "id": "6-IyHRLsHIO0",
        "outputId": "99310fd6-0052-4196-c18a-7b5301b9c8ca"
      },
      "execution_count": 35,
      "outputs": [
        {
          "output_type": "stream",
          "name": "stdout",
          "text": [
            "Time to repeat: 49\n",
            "Local minimum occurs : 1.0000038075296416\n",
            "Derivative value at this point: 7.615102775415661e-06\n",
            "f(x) or cost at this point -3.8075151442829025e-06\n"
          ]
        }
      ]
    },
    {
      "cell_type": "code",
      "source": [
        "values = np.array(x_list)\n",
        "function(values)"
      ],
      "metadata": {
        "colab": {
          "base_uri": "https://localhost:8080/"
        },
        "id": "OfwYgjZNKKpo",
        "outputId": "68fc44ec-ade8-4546-801b-2aad5a41f4e4"
      },
      "execution_count": 45,
      "outputs": [
        {
          "output_type": "execute_result",
          "data": {
            "text/plain": [
              "array([-1.75298750e-02, -1.81778029e-01, -1.74076363e-01, -1.44974384e-01,\n",
              "       -1.16613143e-01, -9.28126557e-02, -7.36520453e-02, -5.84334768e-02,\n",
              "       -4.63938366e-02, -3.68728036e-02, -2.93362983e-02, -2.33623945e-02,\n",
              "       -1.86203215e-02, -1.48511028e-02, -1.18516966e-02, -9.46254239e-03,\n",
              "       -7.55792691e-03, -6.03856119e-03, -4.82585388e-03, -3.85747851e-03,\n",
              "       -3.08392801e-03, -2.46582540e-03, -1.97181646e-03, -1.57691261e-03,\n",
              "       -1.26118388e-03, -1.00872541e-03, -8.06838374e-04, -6.45379818e-04,\n",
              "       -5.16245674e-04, -4.12959295e-04, -3.30343595e-04, -2.64259616e-04,\n",
              "       -2.11397925e-04, -1.69112088e-04, -1.35285669e-04, -1.08225974e-04,\n",
              "       -8.65791403e-05, -6.92622631e-05, -5.54091390e-05, -4.43268815e-05,\n",
              "       -3.54612301e-05, -2.83688081e-05, -2.26949338e-05, -1.81558749e-05,\n",
              "       -1.45246538e-05, -1.16196935e-05, -9.29573591e-06, -7.43657663e-06,\n",
              "       -5.94925356e-06, -4.75939789e-06, -3.80751514e-06])"
            ]
          },
          "metadata": {},
          "execution_count": 45
        }
      ]
    },
    {
      "cell_type": "code",
      "source": [
        "plt.rcParams[\"figure.figsize\"] = [20.50, 6.50]\n",
        "plt.rcParams[\"figure.autolayout\"] = True\n",
        "\n",
        "x = np.linspace(-1, 3, 100)\n",
        "#Plot f(x)\n",
        "plt.subplot(1, 2, 1)\n",
        "plt.plot(x, function(x), color='red', label = 'Function')\n",
        "values = np.array(x_list)\n",
        "plt.scatter(x_list, function(values), color='green', s = 60, alpha =0.5)\n",
        "plt.legend(loc=\"center\")\n",
        "plt.grid(True)\n",
        "#Plot f'(x)\n",
        "plt.subplot(1, 2, 2)\n",
        "plt.plot(x, deriv(x), color='blue', label = 'Derivative')\n",
        "plt.scatter(x_list, slope_list, color='green', s = 60, alpha =0.5)\n",
        "plt.legend(loc=\"center\")\n",
        "plt.grid(True)\n",
        "plt.show()"
      ],
      "metadata": {
        "colab": {
          "base_uri": "https://localhost:8080/",
          "height": 322
        },
        "id": "oubKZvn4ITh8",
        "outputId": "a539394c-e627-435d-f34e-ad993a17e463"
      },
      "execution_count": 51,
      "outputs": [
        {
          "output_type": "display_data",
          "data": {
            "text/plain": [
              "<Figure size 1476x468 with 2 Axes>"
            ],
            "image/png": "[encoded data removed]"
          },
          "metadata": {
            "needs_background": "light"
          }
        }
      ]
    },
    {
      "cell_type": "code",
      "source": [
        ""
      ],
      "metadata": {
        "id": "HReMlsiOFB6O"
      },
      "execution_count": null,
      "outputs": []
    }
  ],
  "metadata": {
    "kernelspec": {
      "display_name": "Python 3.9.12 64-bit",
      "language": "python",
      "name": "python3"
    },
    "language_info": {
      "codemirror_mode": {
        "name": "ipython",
        "version": 3
      },
      "file_extension": ".py",
      "mimetype": "text/x-python",
      "name": "python",
      "nbconvert_exporter": "python",
      "pygments_lexer": "ipython3",
      "version": "3.9.12"
    },
    "orig_nbformat": 4,
    "vscode": {
      "interpreter": {
        "hash": "957bbfb7448c02a610bf5013c570869b2eb3e145935aba6ef033e7850db268bd"
      }
    },
    "colab": {
      "name": "Mid_term_NguyenHoangLong.ipynb",
      "provenance": [],
      "collapsed_sections": []
    }
  },
  "nbformat": 4,
  "nbformat_minor": 0
}